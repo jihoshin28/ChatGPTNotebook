{
 "cells": [
  {
   "cell_type": "code",
   "execution_count": null,
   "id": "e05c9901",
   "metadata": {},
   "outputs": [],
   "source": [
    "sefsefsf"
   ]
  }
 ],
 "metadata": {
  "kernelspec": {
   "display_name": "Python 3",
   "language": "python",
   "name": "python3"
  },
  "language_info": {
   "name": "python",
   "version": "3.9.6"
  }
 },
 "nbformat": 4,
 "nbformat_minor": 5
}
